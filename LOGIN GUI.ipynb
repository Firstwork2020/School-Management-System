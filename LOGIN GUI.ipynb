{
 "cells": [
  {
   "cell_type": "code",
   "execution_count": 15,
   "metadata": {},
   "outputs": [],
   "source": [
    "from tkinter import *\n",
    "def LoginPage():\n",
    "    login_screen=Tk()\n",
    "    login_screen.title(\"Login\")\n",
    "    login_screen.geometry(\"300x250\")\n",
    "    Label(login_screen, text=\"Please enter login details\").pack()\n",
    "    Label(login_screen, text=\"\").pack()\n",
    "    Label(login_screen, text=\"Username\").pack()\n",
    "    username_login_entry = Entry(login_screen, textvariable=\"username\")\n",
    "    username_login_entry.pack()\n",
    "    Label(login_screen, text=\"\").pack()\n",
    "    Label(login_screen, text=\"Password\").pack()\n",
    "    password__login_entry = Entry(login_screen, textvariable=\"password\", show= '*')\n",
    "    password__login_entry.pack()\n",
    "    Label(login_screen, text=\"\").pack()\n",
    "    Button(login_screen, text=\"Login\", width=10, height=1).pack()\n",
    "    Button(login_screen,text='Forgot Password',font=('Times New Roman',13,'bold'),fg='black',bd=0,width=20,height=1).pack()\n",
    "    login_screen.mainloop()\n",
    "    \n",
    "LoginPage()"
   ]
  },
  {
   "cell_type": "code",
   "execution_count": null,
   "metadata": {},
   "outputs": [],
   "source": []
  }
 ],
 "metadata": {
  "kernelspec": {
   "display_name": "Python 3",
   "language": "python",
   "name": "python3"
  },
  "language_info": {
   "codemirror_mode": {
    "name": "ipython",
    "version": 3
   },
   "file_extension": ".py",
   "mimetype": "text/x-python",
   "name": "python",
   "nbconvert_exporter": "python",
   "pygments_lexer": "ipython3",
   "version": "3.7.3"
  }
 },
 "nbformat": 4,
 "nbformat_minor": 4
}
